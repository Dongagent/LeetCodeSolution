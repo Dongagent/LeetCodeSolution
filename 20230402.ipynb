{
 "cells": [
  {
   "cell_type": "markdown",
   "id": "1c3f2127-cdb7-4bdc-953c-ad8b1d457828",
   "metadata": {},
   "source": [
    "### 69"
   ]
  },
  {
   "cell_type": "code",
   "execution_count": 31,
   "id": "8407fa1f-4588-4e8f-9a12-b3eb78280486",
   "metadata": {},
   "outputs": [],
   "source": [
    "class Solution:\n",
    "    def mySqrt(self, x: int) -> int:\n",
    "        # This question is similar to find the lower bound of sqrt(x) in the list [1, x]\n",
    "        l = 0\n",
    "        r = x\n",
    "        while l < r:\n",
    "            m = l + (r - l) // 2 # 0 + 8//2 = 4\n",
    "            if m ** 2 > x:\n",
    "            #     return m\n",
    "            # elif m ** 2 > x:\n",
    "                r = m\n",
    "            else:\n",
    "                l = m + 1\n",
    "        return l - 1\n"
   ]
  },
  {
   "cell_type": "code",
   "execution_count": 32,
   "id": "891bf920-af84-463e-80fc-a99450741dbf",
   "metadata": {},
   "outputs": [
    {
     "data": {
      "text/plain": [
       "3"
      ]
     },
     "execution_count": 32,
     "metadata": {},
     "output_type": "execute_result"
    }
   ],
   "source": [
    "s = Solution()\n",
    "s.mySqrt(9)"
   ]
  },
  {
   "cell_type": "code",
   "execution_count": null,
   "id": "5e3d7876-27ec-493c-82d8-9cc11424fc7d",
   "metadata": {},
   "outputs": [],
   "source": []
  },
  {
   "cell_type": "markdown",
   "id": "6b4b150f-e843-4dd1-bfa9-728e9b2475f3",
   "metadata": {},
   "source": [
    "------"
   ]
  },
  {
   "cell_type": "code",
   "execution_count": 12,
   "id": "c519daa5-9b49-4625-84d2-2725acfc6a37",
   "metadata": {},
   "outputs": [
    {
     "name": "stdin",
     "output_type": "stream",
     "text": [
      " 12345678901112 121110987654321\n"
     ]
    },
    {
     "name": "stdout",
     "output_type": "stream",
     "text": [
      "12345678901112\n"
     ]
    }
   ],
   "source": [
    "# Q2\n",
    "import math\n",
    "a, b = map(int, input().split(' '))\n",
    "count = 0\n",
    "if a % b == 0:\n",
    "    print(1)\n",
    "else:\n",
    "\n",
    "    while a >= 1 and b >= 1:\n",
    "        \n",
    "        g = math.gcd(a, b)\n",
    "        x = abs(a-b)\n",
    "        if x <= 1:\n",
    "            count += min(a, b)\n",
    "            a, b = 0, 0\n",
    "        else:\n",
    "            \n",
    "        if g != 1:\n",
    "            a //= g\n",
    "            b //= g\n",
    "            # print(a, b, g)\n",
    "            a = a - 1\n",
    "            b = b - 1\n",
    "            count += 1\n",
    "        else:\n",
    "            t = a % abs(a-b)\n",
    "            a -= t\n",
    "            b -= t\n",
    "            count += t\n",
    "\n",
    "    print(count)"
   ]
  },
  {
   "cell_type": "code",
   "execution_count": 10,
   "id": "68cdfc2e-c1a0-4b75-bef5-d0f423a0b6d2",
   "metadata": {},
   "outputs": [
    {
     "name": "stdout",
     "output_type": "stream",
     "text": [
      "1\n"
     ]
    }
   ],
   "source": [
    "a,b =  12345678901112, 121110987654321\n",
    "\n",
    "g = math.gcd(a, b)\n",
    "print(g)"
   ]
  },
  {
   "cell_type": "code",
   "execution_count": 107,
   "id": "dffdbea5-664c-4d82-a47d-7d34c9880463",
   "metadata": {},
   "outputs": [
    {
     "data": {
      "text/plain": [
       "15"
      ]
     },
     "execution_count": 107,
     "metadata": {},
     "output_type": "execute_result"
    }
   ],
   "source": [
    "11880 // 792"
   ]
  },
  {
   "cell_type": "code",
   "execution_count": 41,
   "id": "f0f8169b-499b-4c52-86ec-4bf0855de0c7",
   "metadata": {},
   "outputs": [],
   "source": [
    "# read data\n",
    "N, K = map(int, input().split(' '))\n",
    "Kmat = []\n",
    "for i in range(N):\n",
    "    Kmat.append(list(map(int, input().split(' '))))\n",
    "\n",
    "    "
   ]
  },
  {
   "cell_type": "code",
   "execution_count": 44,
   "id": "337f67dc-9aea-4140-a94f-7d96c9d6ba7f",
   "metadata": {},
   "outputs": [
    {
     "name": "stdin",
     "output_type": "stream",
     "text": [
      " 4\n",
      " 1 2\n",
      " 1 4\n",
      " 1 6\n",
      " 6 3\n"
     ]
    }
   ],
   "source": [
    "Q = int(input())\n",
    "Qmat = []\n",
    "for i in range(Q):\n",
    "    Qmat.append(list(map(int, input().split(' '))))"
   ]
  },
  {
   "cell_type": "code",
   "execution_count": 45,
   "id": "cf81e278-4945-4027-8f6e-33983a9dac71",
   "metadata": {},
   "outputs": [
    {
     "data": {
      "text/plain": [
       "[[1, 2], [1, 4], [1, 6], [6, 3]]"
      ]
     },
     "execution_count": 45,
     "metadata": {},
     "output_type": "execute_result"
    }
   ],
   "source": [
    "Qmat"
   ]
  },
  {
   "cell_type": "code",
   "execution_count": 64,
   "id": "0fccfc46-0bb7-4c4e-a260-8c71ecdad524",
   "metadata": {},
   "outputs": [
    {
     "name": "stdout",
     "output_type": "stream",
     "text": [
      "[[1, 1, 1, 1, 1, 1], [1, 1, 0, 1, 1, 0], [0, 1, 0, 0, 1, 0], [1, 1, 1, 1, 1, 1], [1, 1, 0, 1, 1, 0], [0, 1, 0, 0, 1, 0]]\n"
     ]
    }
   ],
   "source": [
    "N, K = 3, 2\n",
    "Kmat = [[1, 1, 1], [1, 1, 0], [0, 1, 0]]\n",
    "Q = 4\n",
    "Qmat = [[1, 2], [1, 4], [1, 6], [6, 3]]\n",
    "\n",
    "KKmat = [[elem for elem in row] * K for row in Kmat] * K\n",
    "print(KKmat)\n",
    "# target 1 -> 2\n",
    "a, b = Qmat[0]\n",
    "\n",
    "from collections import deque\n",
    "queue = deque([a])\n",
    "visited = set([a])\n",
    "while queue:\n",
    "    vertex = queue.popleft()\n",
    "    print('current point is:', vertex, end=' ')\n",
    "    # Get all adjacent vertices of the dequeued vertex\n",
    "    for i in range(1, N*K+1):\n",
    "        if i in visited:\n",
    "            continue\n",
    "        else:\n",
    "            if KKmat[a, i]:\n",
    "                visited.add(i)\n",
    "                queue.append(i)\n",
    "                a = i\n",
    "                break\n",
    "            else:\n",
    "                continue\n",
    "            "
   ]
  },
  {
   "cell_type": "code",
   "execution_count": null,
   "id": "11d3d9af-0663-40af-ad5e-c1d972cbf6ef",
   "metadata": {},
   "outputs": [],
   "source": []
  },
  {
   "cell_type": "code",
   "execution_count": 28,
   "id": "9c44be7a-9732-4f0e-b4e0-a272318a2011",
   "metadata": {},
   "outputs": [],
   "source": [
    "def solver1(N, A):\n",
    "    def count_zero_substrings(s):\n",
    "        count = 0\n",
    "        current_count = 0\n",
    "        for i in range(len(s)):\n",
    "            if s[i] == 0:\n",
    "                current_count = i + 1\n",
    "            count += current_count\n",
    "        return count\n",
    "\n",
    "    \n",
    "    k = 0\n",
    "    longest_ones = 0\n",
    "    longest_idx = -1\n",
    "    while k < N:\n",
    "        if A[k] == 1:\n",
    "            j = k\n",
    "            while j < N and A[j] == 1:\n",
    "                j += 1\n",
    "            if j-k > longest_ones:\n",
    "                longest_ones = max(longest_ones, j - k)\n",
    "                longest_idx = (j+k)//2\n",
    "            k = j\n",
    "        else:\n",
    "            k += 1\n",
    "    B = [tok for tok in A]\n",
    "    B[longest_idx] = 0\n",
    "\n",
    "    return count_zero_substrings(B)\n",
    "\n"
   ]
  },
  {
   "cell_type": "code",
   "execution_count": 32,
   "id": "6ab5a7ab-8b83-4085-923f-71bb9fdaa093",
   "metadata": {},
   "outputs": [],
   "source": [
    "import copy\n",
    "def solver2(N, A):\n",
    "\n",
    "    def findAllSubstring(N, A):\n",
    "        counter = int((N+1) * N / 2)\n",
    "        # count 1\n",
    "        i = 0\n",
    "        while i < N:\n",
    "            if A[i] == 1:\n",
    "                j = i\n",
    "                while True:\n",
    "                    if j == N:\n",
    "                        break\n",
    "                    if A[j] == 0:\n",
    "                        break\n",
    "                    else:\n",
    "                        j += 1\n",
    "                length = j-i\n",
    "                counter = counter - int((length + 1) * length / 2)\n",
    "                i = j\n",
    "            else:\n",
    "                i += 1\n",
    "        return counter\n",
    "    # find longest 1 substring\n",
    "    i = 0\n",
    "    maxl = 0\n",
    "    maxj = 0\n",
    "    maxlength = 0\n",
    "    while i < N:\n",
    "        if A[i] == 1:\n",
    "            j = i\n",
    "            while True:\n",
    "                if j == N:\n",
    "                    break\n",
    "                if A[j] == 0:\n",
    "                    break\n",
    "                else:\n",
    "                    j += 1\n",
    "            if maxlength < j-i:\n",
    "                maxl, maxj = i, j\n",
    "                maxlength = j-i\n",
    "            i = j\n",
    "        else:\n",
    "            i += 1\n",
    "    pos = (maxj+maxl) // 2\n",
    "    AA = copy.deepcopy(A)\n",
    "    AA[pos] = 0\n",
    "    return findAllSubstring(N, AA)\n"
   ]
  },
  {
   "cell_type": "code",
   "execution_count": 34,
   "id": "9d8057bd-6855-43a5-bf12-e2cbb721a154",
   "metadata": {},
   "outputs": [
    {
     "name": "stdout",
     "output_type": "stream",
     "text": [
      "59\n",
      "59\n"
     ]
    }
   ],
   "source": [
    "A = [1, 0, 1, 0, 1, 1, 1, 0, 0, 1, 1]\n",
    "N = len(A)\n",
    "print(solver1(N, A))\n",
    "print(solver2(N, A))"
   ]
  },
  {
   "cell_type": "code",
   "execution_count": null,
   "id": "e6fe3e7f-c7ab-477c-81f0-0c7b979cc8df",
   "metadata": {},
   "outputs": [],
   "source": [
    "1.4"
   ]
  },
  {
   "cell_type": "code",
   "execution_count": 26,
   "id": "aad857c6-6877-4c72-abf2-fcfdc2b63447",
   "metadata": {},
   "outputs": [
    {
     "data": {
      "text/plain": [
       "[[1, 0], [1, 0]]"
      ]
     },
     "execution_count": 26,
     "metadata": {},
     "output_type": "execute_result"
    }
   ],
   "source": [
    "a = [[0] * 2] * 2\n",
    "a[0] is a[1]\n",
    "a[0][0] = 1\n",
    "a"
   ]
  },
  {
   "cell_type": "code",
   "execution_count": 22,
   "id": "d12aab82-a5f9-4340-adc2-2bde13f5d682",
   "metadata": {},
   "outputs": [
    {
     "name": "stdout",
     "output_type": "stream",
     "text": [
      "[0, 1, 0, 0, 0, 0, 0, 0, 0, 0]\n"
     ]
    }
   ],
   "source": [
    "a = [0] * 10\n",
    "a[1] = 1\n",
    "print(a)"
   ]
  },
  {
   "cell_type": "markdown",
   "id": "0d784fa4-a3d9-4d22-9bdb-e055c43721d5",
   "metadata": {},
   "source": [
    "### 2261"
   ]
  },
  {
   "cell_type": "code",
   "execution_count": 20,
   "id": "cb6582a4-83e4-4e51-9488-c45da38062ba",
   "metadata": {},
   "outputs": [],
   "source": [
    "class Solution:\n",
    "    def miceAndCheese(self, reward1: List[int], reward2: List[int], k: int) -> int:\n",
    "        n = len(reward1)\n",
    "        if n == k:\n",
    "            return sum(reward1)\n",
    "        l3 = [0] * n\n",
    "        for i in range(n):\n",
    "            l3[i] = reward1[i] - reward2[i]\n",
    "        \n",
    "        diff = [(l3[i], i) for i in range(n)]\n",
    "        diff.sort(reverse=True)\n",
    "        \n",
    "        ans = 0\n",
    "        for i in range(k):\n",
    "            ans += reward1[diff[i][1]]\n",
    "        for i in range(k, n):\n",
    "            ans += reward2[diff[i][1]]\n",
    "            \n",
    "        return ans"
   ]
  },
  {
   "cell_type": "code",
   "execution_count": 21,
   "id": "4d8c1e48-5440-4d3c-97e6-f98ccb83276a",
   "metadata": {},
   "outputs": [
    {
     "name": "stdout",
     "output_type": "stream",
     "text": [
      "[1, 1, 0, 0]\n"
     ]
    }
   ],
   "source": [
    "s = Solution()\n",
    "# testcase = 'abc'\n",
    "# testcase = 'aab'\n",
    "reward1 = [1,1,3,4]\n",
    "reward2 = [4,4,1,1]\n",
    "k = 2\n",
    "s.miceAndCheese(reward1, reward2, k)"
   ]
  },
  {
   "cell_type": "code",
   "execution_count": 53,
   "id": "1027f5c9-52bf-4303-9915-aed166b98e3f",
   "metadata": {},
   "outputs": [],
   "source": [
    "class Solution:\n",
    "    def findTheLongestBalancedSubstring(self, s: str) -> int:\n",
    "        i = 0\n",
    "        zs = 0\n",
    "        os = 0\n",
    "        flag = 0\n",
    "        m = 0\n",
    "        while i < len(s):\n",
    "            tok = int(s[i])\n",
    "            if tok == flag:\n",
    "                if tok == 0:\n",
    "                    zs += 1\n",
    "                    # zs = 1\n",
    "                else:\n",
    "                    os += 1\n",
    "            else:\n",
    "                if tok == 1:\n",
    "                   \n",
    "                    # print(os)\n",
    "                    os = 1\n",
    "                else:\n",
    "                    print('tok', tok, 'flag', flag)\n",
    "                    \n",
    "                    m = max(min(os, zs)*2, m)\n",
    "                    os = 0\n",
    "                    zs = 1\n",
    "            flag = tok\n",
    "            i += 1\n",
    "        m = max(min(os, zs)*2, m)\n",
    "        return m\n",
    "\n",
    "\n"
   ]
  },
  {
   "cell_type": "code",
   "execution_count": 54,
   "id": "34eddefe-9ad1-404d-8a04-871766515db8",
   "metadata": {},
   "outputs": [
    {
     "name": "stdout",
     "output_type": "stream",
     "text": [
      "tok 0 flag 1\n",
      "6\n",
      "4\n",
      "0\n",
      "2\n",
      "tok 0 flag 1\n",
      "0\n"
     ]
    }
   ],
   "source": [
    "s = Solution()\n",
    "# testcase = 'abc'\n",
    "# testcase = 'aab'\n",
    "testcase = [\"01000111\", \"0011\", \"111\", '01', '10']\n",
    "# testcase = [\"0011\"]\n",
    "\n",
    "# testcase = ['atbbga']\n",
    "# testcase = ['ebcbbececabbacecbbcbe']\n",
    "for i in testcase:\n",
    "    print(s.findTheLongestBalancedSubstring(i))"
   ]
  },
  {
   "cell_type": "code",
   "execution_count": 38,
   "id": "c2b1068e-6e58-4919-bfbe-90f3209a4761",
   "metadata": {},
   "outputs": [],
   "source": [
    "class Solution:\n",
    "    def findTheLongestBalancedSubstring(self, s: str) -> int:\n",
    "        if s == '':\n",
    "            return 0\n",
    "        l = 0\n",
    "        r = 0\n",
    "        length = len(s)\n",
    "        maxlength = 0\n",
    "        while l < length and r < length:\n",
    "            # find the left side of substring\n",
    "            if s[l] != '0':\n",
    "                # print(l)\n",
    "                l += 1\n",
    "            else:\n",
    "                # print(r)\n",
    "                r = l + 1\n",
    "                if r < length:\n",
    "                    while s[r] == '0' and r < length:\n",
    "                        # if s[r] is not 1, go right side of string 00000\n",
    "                        r += 1\n",
    "                    # now reach 1\n",
    "                    while r < length and s[r] == '1' and :\n",
    "                        r += 1\n",
    "                    # now reach the right side of 0011\n",
    "                    if r >= length:\n",
    "                        # if reach the maximum, stop\n",
    "                        break\n",
    "                    # find the longest balanced string between l and r\n",
    "                    tempmax = 0\n",
    "                    i = l\n",
    "                    j = r\n",
    "                    print(i,j)\n",
    "                    while i <= j:\n",
    "                        while s[i] == '0':\n",
    "                            i += 1\n",
    "                        print('i', i)\n",
    "                        while s[j] == '1':\n",
    "                            j -= 1\n",
    "                        print('j', j)\n",
    "                        break\n",
    "                    print(tempmax)\n",
    "                    maxlength = max(maxlength, tempmax)\n",
    "                    l = r\n",
    "                \n",
    "        return maxlength"
   ]
  },
  {
   "cell_type": "code",
   "execution_count": 39,
   "id": "db5f0a57-de0a-4ba8-8664-410b6301cb54",
   "metadata": {},
   "outputs": [
    {
     "ename": "IndexError",
     "evalue": "string index out of range",
     "output_type": "error",
     "traceback": [
      "\u001b[0;31m---------------------------------------------------------------------------\u001b[0m",
      "\u001b[0;31mIndexError\u001b[0m                                Traceback (most recent call last)",
      "Input \u001b[0;32mIn [39]\u001b[0m, in \u001b[0;36m<module>\u001b[0;34m\u001b[0m\n\u001b[1;32m      7\u001b[0m \u001b[38;5;66;03m# testcase = ['atbbga']\u001b[39;00m\n\u001b[1;32m      8\u001b[0m \u001b[38;5;66;03m# testcase = ['ebcbbececabbacecbbcbe']\u001b[39;00m\n\u001b[1;32m      9\u001b[0m \u001b[38;5;28;01mfor\u001b[39;00m i \u001b[38;5;129;01min\u001b[39;00m testcase:\n\u001b[0;32m---> 10\u001b[0m     \u001b[38;5;28mprint\u001b[39m(\u001b[43ms\u001b[49m\u001b[38;5;241;43m.\u001b[39;49m\u001b[43mfindTheLongestBalancedSubstring\u001b[49m\u001b[43m(\u001b[49m\u001b[43mi\u001b[49m\u001b[43m)\u001b[49m)\n",
      "Input \u001b[0;32mIn [38]\u001b[0m, in \u001b[0;36mSolution.findTheLongestBalancedSubstring\u001b[0;34m(self, s)\u001b[0m\n\u001b[1;32m     20\u001b[0m     r \u001b[38;5;241m+\u001b[39m\u001b[38;5;241m=\u001b[39m \u001b[38;5;241m1\u001b[39m\n\u001b[1;32m     21\u001b[0m \u001b[38;5;66;03m# now reach 1\u001b[39;00m\n\u001b[0;32m---> 22\u001b[0m \u001b[38;5;28;01mwhile\u001b[39;00m \u001b[43ms\u001b[49m\u001b[43m[\u001b[49m\u001b[43mr\u001b[49m\u001b[43m]\u001b[49m \u001b[38;5;241m==\u001b[39m \u001b[38;5;124m'\u001b[39m\u001b[38;5;124m1\u001b[39m\u001b[38;5;124m'\u001b[39m \u001b[38;5;129;01mand\u001b[39;00m r \u001b[38;5;241m<\u001b[39m length:\n\u001b[1;32m     23\u001b[0m     r \u001b[38;5;241m+\u001b[39m\u001b[38;5;241m=\u001b[39m \u001b[38;5;241m1\u001b[39m\n\u001b[1;32m     24\u001b[0m \u001b[38;5;66;03m# now reach the right side of 0011\u001b[39;00m\n",
      "\u001b[0;31mIndexError\u001b[0m: string index out of range"
     ]
    }
   ],
   "source": [
    "s = Solution()\n",
    "# testcase = 'abc'\n",
    "# testcase = 'aab'\n",
    "testcase = [\"01000111\", \"0011\", \"111\", '01', '10']\n",
    "testcase = [\"0011\"]\n",
    "\n",
    "# testcase = ['atbbga']\n",
    "# testcase = ['ebcbbececabbacecbbcbe']\n",
    "for i in testcase:\n",
    "    print(s.findTheLongestBalancedSubstring(i))"
   ]
  },
  {
   "cell_type": "code",
   "execution_count": 60,
   "id": "b0ebf1c9-2f76-4aa3-a3a5-277a31bd1e5e",
   "metadata": {},
   "outputs": [],
   "source": [
    "class Solution:\n",
    "    def findTheLongestBalancedSubstring(self, s: str) -> int:\n",
    "        # find the first zero\n",
    "        findzeroflag = True\n",
    "        for i in range(len(s)):\n",
    "            if findzeroflag:\n",
    "                if s[i] == '0':\n",
    "                    l = i\n",
    "                    findzeroflag = False\n",
    "        if findzeroflag:\n",
    "            return 0\n",
    "        \n",
    "        # find all '01' pos\n",
    "        pos = []\n",
    "        for i in range(len(s)-1):\n",
    "            if s[i] == '0' and s[i+1] == '1':\n",
    "                \n",
    "        "
   ]
  },
  {
   "cell_type": "code",
   "execution_count": 61,
   "id": "cee7bae5-11f5-4e0d-9df0-57366cbe4348",
   "metadata": {},
   "outputs": [
    {
     "name": "stdout",
     "output_type": "stream",
     "text": [
      "6\n",
      "4\n",
      "0\n",
      "2\n",
      "0\n"
     ]
    }
   ],
   "source": [
    "s = Solution()\n",
    "# testcase = 'abc'\n",
    "# testcase = 'aab'\n",
    "testcase = [\"01000111\", \"0011\", \"111\", '01', '10']\n",
    "testcase = [\"10\"]\n",
    "\n",
    "# testcase = ['atbbga']\n",
    "# testcase = ['ebcbbececabbacecbbcbe']\n",
    "for i in testcase:\n",
    "    print(s.findTheLongestBalancedSubstring(i))"
   ]
  },
  {
   "cell_type": "code",
   "execution_count": null,
   "id": "adf53df0-a500-4485-af78-1a474dd7e322",
   "metadata": {},
   "outputs": [],
   "source": []
  },
  {
   "cell_type": "code",
   "execution_count": null,
   "id": "f6d6651d-8131-425e-aa0b-795af5cb4525",
   "metadata": {},
   "outputs": [],
   "source": []
  },
  {
   "cell_type": "code",
   "execution_count": 176,
   "id": "a06a8a00-f5a0-4b8b-b426-da3022e28596",
   "metadata": {},
   "outputs": [],
   "source": [
    "class Solution:\n",
    "    def validPalindrome(self, s: str) -> bool:\n",
    "        c = 0\n",
    "        def myFunc(s, count):  \n",
    "            wl = 0\n",
    "            wr = len(s) - 1\n",
    "            counter = count\n",
    "            # edge case\n",
    "            # print(s)\n",
    "            # print(count)\n",
    "            if len(s) == 1:\n",
    "                return True\n",
    "            if len(s) == 2:\n",
    "                if s[0] == s[1]:\n",
    "                    return counter < 2 and True\n",
    "                else:\n",
    "                    counter += 1\n",
    "                    return counter < 2 and True\n",
    "            if counter > 1:\n",
    "                return False\n",
    "            # print(s)\n",
    "            # delete same strs\n",
    "            while counter <= 1 and wl < wr:\n",
    "                if s[wl] == s[wr]:\n",
    "                    # if wr - wl >= 3:\n",
    "                    wl += 1\n",
    "                    wr -= 1\n",
    "                    # print(wl, wr)\n",
    "                else:\n",
    "                    if abs(wr - wl) == 1:\n",
    "                        counter += 1\n",
    "                        # print(counter)\n",
    "                        return counter < 2 and True\n",
    "                    else:\n",
    "                        counter += 1\n",
    "                        return (myFunc(s[wl:wr], counter) or myFunc(s[wl+1:wr+1], counter))\n",
    "            if abs(wr - wl) == 1:\n",
    "\n",
    "                if s[wr] == s[wl]:\n",
    "                    return counter < 2 and True\n",
    "                else:\n",
    "                    counter += 1\n",
    "                    return counter < 2 and True\n",
    "            if wr == wl:\n",
    "                return counter < 2 and True\n",
    "        return myFunc(s, c)"
   ]
  },
  {
   "cell_type": "code",
   "execution_count": 179,
   "id": "474a7eb2-9100-4c0d-8b26-96419cd455b0",
   "metadata": {},
   "outputs": [
    {
     "name": "stdout",
     "output_type": "stream",
     "text": [
      "True\n"
     ]
    }
   ],
   "source": [
    "s = Solution()\n",
    "# testcase = 'abc'\n",
    "# testcase = 'aab'\n",
    "testcase = ['abc', 'abca', 'aab', 'yd', 'k', 'aba', 'atbbga']\n",
    "\n",
    "# testcase = ['atbbga']\n",
    "testcase = ['ebcbbececabbacecbbcbe']\n",
    "for i in testcase:\n",
    "    print(s.validPalindrome(i))"
   ]
  },
  {
   "cell_type": "code",
   "execution_count": null,
   "id": "afe05bcf-0d12-4ec2-9532-a9562da99585",
   "metadata": {},
   "outputs": [],
   "source": []
  },
  {
   "cell_type": "code",
   "execution_count": 93,
   "id": "28426e2c-ec61-4e6d-ace0-3583b02b2273",
   "metadata": {},
   "outputs": [
    {
     "data": {
      "text/plain": [
       "''"
      ]
     },
     "execution_count": 93,
     "metadata": {},
     "output_type": "execute_result"
    }
   ],
   "source": [
    "a = 'abca'\n",
    "a[1:1]"
   ]
  },
  {
   "cell_type": "code",
   "execution_count": 28,
   "id": "de2c7283-4911-4456-9bfe-74ee143fbc41",
   "metadata": {},
   "outputs": [],
   "source": [
    "class Solution:\n",
    "    def validPalindrome(self, s: str) -> bool:\n",
    "        wl = 0\n",
    "        wr = len(s) - 1\n",
    "        counter = 0\n",
    "        if len(s) <= 2:\n",
    "            return True\n",
    "        while counter <= 1 and wl < wr:\n",
    "            if s[wl] == s[wr]:\n",
    "                print(wl, wr)\n",
    "                if wr - wl > 3:\n",
    "                    wl += 1\n",
    "                    wr -= 1\n",
    "                else:\n",
    "                    return True\n",
    "            else:\n",
    "                counter += 1\n",
    "                if s[wl] == s[wr-1]:\n",
    "                    wr -= 1\n",
    "                elif s[wl+1] == s[wr]:\n",
    "                    wl += 1\n",
    "        return False"
   ]
  },
  {
   "cell_type": "code",
   "execution_count": 29,
   "id": "566a50de-7d23-46d9-8b31-ee0accfe0ba3",
   "metadata": {},
   "outputs": [
    {
     "name": "stdout",
     "output_type": "stream",
     "text": [
      "0 20\n",
      "1 19\n",
      "2 18\n",
      "3 17\n",
      "4 16\n",
      "5 14\n",
      "6 13\n",
      "False\n"
     ]
    }
   ],
   "source": [
    "s = Solution()\n",
    "# testcase = 'abc'\n",
    "# testcase = 'aab'\n",
    "testcase = ['abc', 'abca', 'aab', 'yd', 'k']\n",
    "testcase = ['abca', 'yd', 'k']\n",
    "testcase = ['ebcbbececabbacecbbcbe']\n",
    "for i in testcase:\n",
    "    print(s.validPalindrome(i))"
   ]
  },
  {
   "cell_type": "code",
   "execution_count": null,
   "id": "7f0ab13f-8e08-4a09-804f-c54e6fd5fae4",
   "metadata": {},
   "outputs": [],
   "source": [
    "ececabbacec"
   ]
  },
  {
   "cell_type": "markdown",
   "id": "4cbd581f-1349-4e9d-a309-8195b4422325",
   "metadata": {},
   "source": [
    "# 3.5 滑动窗口"
   ]
  },
  {
   "cell_type": "markdown",
   "id": "955571f9-052c-44f0-b270-689d0aff04c1",
   "metadata": {},
   "source": [
    "### NO 634"
   ]
  },
  {
   "cell_type": "code",
   "execution_count": null,
   "id": "631b3ea5-9ebb-4ff4-bf8a-ef980be4077a",
   "metadata": {},
   "outputs": [],
   "source": [
    "def judgeSquareSum(self, c: int) -> bool:\n",
    "        # use sliding window\n",
    "        window_left = 0\n",
    "        window_right = 0\n",
    "        while window_left ** 2 + window_right ** 2 < c:\n",
    "            window_right += 1\n",
    "        while window_left <= window_right:\n",
    "            if window_left ** 2 + window_right ** 2 == c:\n",
    "                return True\n",
    "            elif window_left ** 2 + window_right ** 2 > c:\n",
    "                window_right -= 1\n",
    "            else:\n",
    "                window_left += 1\n",
    "        return False"
   ]
  }
 ],
 "metadata": {
  "kernelspec": {
   "display_name": "pybert",
   "language": "python",
   "name": "pybert"
  },
  "language_info": {
   "codemirror_mode": {
    "name": "ipython",
    "version": 3
   },
   "file_extension": ".py",
   "mimetype": "text/x-python",
   "name": "python",
   "nbconvert_exporter": "python",
   "pygments_lexer": "ipython3",
   "version": "3.8.13"
  }
 },
 "nbformat": 4,
 "nbformat_minor": 5
}
