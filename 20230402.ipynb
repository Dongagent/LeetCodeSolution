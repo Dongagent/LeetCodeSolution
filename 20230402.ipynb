{
 "cells": [
  {
   "cell_type": "code",
   "execution_count": 60,
   "id": "b0ebf1c9-2f76-4aa3-a3a5-277a31bd1e5e",
   "metadata": {},
   "outputs": [],
   "source": [
    "class Solution:\n",
    "    def findTheLongestBalancedSubstring(self, s: str) -> int:\n",
    "        # find the first zero\n",
    "        findzeroflag = True\n",
    "        for i in range(len(s)):\n",
    "            if findzeroflag:\n",
    "                if s[i] == '0':\n",
    "                    l = i\n",
    "                    findzeroflag = False\n",
    "        if findzeroflag:\n",
    "            return 0\n",
    "        \n",
    "        # find all '01' pos\n",
    "        pos = []\n",
    "        for i in range(len(s)-1):\n",
    "            if s[i] == '0' and s[i+1] == '1':\n",
    "                \n",
    "        "
   ]
  },
  {
   "cell_type": "code",
   "execution_count": 61,
   "id": "cee7bae5-11f5-4e0d-9df0-57366cbe4348",
   "metadata": {},
   "outputs": [
    {
     "name": "stdout",
     "output_type": "stream",
     "text": [
      "6\n",
      "4\n",
      "0\n",
      "2\n",
      "0\n"
     ]
    }
   ],
   "source": [
    "s = Solution()\n",
    "# testcase = 'abc'\n",
    "# testcase = 'aab'\n",
    "testcase = [\"01000111\", \"0011\", \"111\", '01', '10']\n",
    "testcase = [\"10\"]\n",
    "\n",
    "# testcase = ['atbbga']\n",
    "# testcase = ['ebcbbececabbacecbbcbe']\n",
    "for i in testcase:\n",
    "    print(s.findTheLongestBalancedSubstring(i))"
   ]
  },
  {
   "cell_type": "code",
   "execution_count": null,
   "id": "adf53df0-a500-4485-af78-1a474dd7e322",
   "metadata": {},
   "outputs": [],
   "source": []
  },
  {
   "cell_type": "code",
   "execution_count": null,
   "id": "f6d6651d-8131-425e-aa0b-795af5cb4525",
   "metadata": {},
   "outputs": [],
   "source": []
  },
  {
   "cell_type": "code",
   "execution_count": 176,
   "id": "a06a8a00-f5a0-4b8b-b426-da3022e28596",
   "metadata": {},
   "outputs": [],
   "source": [
    "class Solution:\n",
    "    def validPalindrome(self, s: str) -> bool:\n",
    "        c = 0\n",
    "        def myFunc(s, count):  \n",
    "            wl = 0\n",
    "            wr = len(s) - 1\n",
    "            counter = count\n",
    "            # edge case\n",
    "            # print(s)\n",
    "            # print(count)\n",
    "            if len(s) == 1:\n",
    "                return True\n",
    "            if len(s) == 2:\n",
    "                if s[0] == s[1]:\n",
    "                    return counter < 2 and True\n",
    "                else:\n",
    "                    counter += 1\n",
    "                    return counter < 2 and True\n",
    "            if counter > 1:\n",
    "                return False\n",
    "            # print(s)\n",
    "            # delete same strs\n",
    "            while counter <= 1 and wl < wr:\n",
    "                if s[wl] == s[wr]:\n",
    "                    # if wr - wl >= 3:\n",
    "                    wl += 1\n",
    "                    wr -= 1\n",
    "                    # print(wl, wr)\n",
    "                else:\n",
    "                    if abs(wr - wl) == 1:\n",
    "                        counter += 1\n",
    "                        # print(counter)\n",
    "                        return counter < 2 and True\n",
    "                    else:\n",
    "                        counter += 1\n",
    "                        return (myFunc(s[wl:wr], counter) or myFunc(s[wl+1:wr+1], counter))\n",
    "            if abs(wr - wl) == 1:\n",
    "\n",
    "                if s[wr] == s[wl]:\n",
    "                    return counter < 2 and True\n",
    "                else:\n",
    "                    counter += 1\n",
    "                    return counter < 2 and True\n",
    "            if wr == wl:\n",
    "                return counter < 2 and True\n",
    "        return myFunc(s, c)"
   ]
  },
  {
   "cell_type": "code",
   "execution_count": 179,
   "id": "474a7eb2-9100-4c0d-8b26-96419cd455b0",
   "metadata": {},
   "outputs": [
    {
     "name": "stdout",
     "output_type": "stream",
     "text": [
      "True\n"
     ]
    }
   ],
   "source": [
    "s = Solution()\n",
    "# testcase = 'abc'\n",
    "# testcase = 'aab'\n",
    "testcase = ['abc', 'abca', 'aab', 'yd', 'k', 'aba', 'atbbga']\n",
    "\n",
    "# testcase = ['atbbga']\n",
    "testcase = ['ebcbbececabbacecbbcbe']\n",
    "for i in testcase:\n",
    "    print(s.validPalindrome(i))"
   ]
  },
  {
   "cell_type": "code",
   "execution_count": null,
   "id": "afe05bcf-0d12-4ec2-9532-a9562da99585",
   "metadata": {},
   "outputs": [],
   "source": []
  },
  {
   "cell_type": "code",
   "execution_count": 93,
   "id": "28426e2c-ec61-4e6d-ace0-3583b02b2273",
   "metadata": {},
   "outputs": [
    {
     "data": {
      "text/plain": [
       "''"
      ]
     },
     "execution_count": 93,
     "metadata": {},
     "output_type": "execute_result"
    }
   ],
   "source": [
    "a = 'abca'\n",
    "a[1:1]"
   ]
  },
  {
   "cell_type": "code",
   "execution_count": 28,
   "id": "de2c7283-4911-4456-9bfe-74ee143fbc41",
   "metadata": {},
   "outputs": [],
   "source": [
    "class Solution:\n",
    "    def validPalindrome(self, s: str) -> bool:\n",
    "        wl = 0\n",
    "        wr = len(s) - 1\n",
    "        counter = 0\n",
    "        if len(s) <= 2:\n",
    "            return True\n",
    "        while counter <= 1 and wl < wr:\n",
    "            if s[wl] == s[wr]:\n",
    "                print(wl, wr)\n",
    "                if wr - wl > 3:\n",
    "                    wl += 1\n",
    "                    wr -= 1\n",
    "                else:\n",
    "                    return True\n",
    "            else:\n",
    "                counter += 1\n",
    "                if s[wl] == s[wr-1]:\n",
    "                    wr -= 1\n",
    "                elif s[wl+1] == s[wr]:\n",
    "                    wl += 1\n",
    "        return False"
   ]
  },
  {
   "cell_type": "code",
   "execution_count": 29,
   "id": "566a50de-7d23-46d9-8b31-ee0accfe0ba3",
   "metadata": {},
   "outputs": [
    {
     "name": "stdout",
     "output_type": "stream",
     "text": [
      "0 20\n",
      "1 19\n",
      "2 18\n",
      "3 17\n",
      "4 16\n",
      "5 14\n",
      "6 13\n",
      "False\n"
     ]
    }
   ],
   "source": [
    "s = Solution()\n",
    "# testcase = 'abc'\n",
    "# testcase = 'aab'\n",
    "testcase = ['abc', 'abca', 'aab', 'yd', 'k']\n",
    "testcase = ['abca', 'yd', 'k']\n",
    "testcase = ['ebcbbececabbacecbbcbe']\n",
    "for i in testcase:\n",
    "    print(s.validPalindrome(i))"
   ]
  },
  {
   "cell_type": "code",
   "execution_count": null,
   "id": "7f0ab13f-8e08-4a09-804f-c54e6fd5fae4",
   "metadata": {},
   "outputs": [],
   "source": [
    "ececabbacec"
   ]
  },
  {
   "cell_type": "markdown",
   "id": "4cbd581f-1349-4e9d-a309-8195b4422325",
   "metadata": {},
   "source": [
    "# 3.5 滑动窗口"
   ]
  },
  {
   "cell_type": "markdown",
   "id": "955571f9-052c-44f0-b270-689d0aff04c1",
   "metadata": {},
   "source": [
    "### NO 634"
   ]
  },
  {
   "cell_type": "code",
   "execution_count": null,
   "id": "631b3ea5-9ebb-4ff4-bf8a-ef980be4077a",
   "metadata": {},
   "outputs": [],
   "source": [
    "def judgeSquareSum(self, c: int) -> bool:\n",
    "        # use sliding window\n",
    "        window_left = 0\n",
    "        window_right = 0\n",
    "        while window_left ** 2 + window_right ** 2 < c:\n",
    "            window_right += 1\n",
    "        while window_left <= window_right:\n",
    "            if window_left ** 2 + window_right ** 2 == c:\n",
    "                return True\n",
    "            elif window_left ** 2 + window_right ** 2 > c:\n",
    "                window_right -= 1\n",
    "            else:\n",
    "                window_left += 1\n",
    "        return False"
   ]
  }
 ],
 "metadata": {
  "kernelspec": {
   "display_name": "Python 3",
   "language": "python",
   "name": "python3"
  },
  "language_info": {
   "codemirror_mode": {
    "name": "ipython",
    "version": 3
   },
   "file_extension": ".py",
   "mimetype": "text/x-python",
   "name": "python",
   "nbconvert_exporter": "python",
   "pygments_lexer": "ipython3",
   "version": "3.9.5"
  }
 },
 "nbformat": 4,
 "nbformat_minor": 5
}
