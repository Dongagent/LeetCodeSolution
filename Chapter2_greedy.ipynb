{
 "cells": [
  {
   "cell_type": "markdown",
   "id": "d3ad1fbd-22af-4681-b299-b7ded1af8f4b",
   "metadata": {
    "tags": []
   },
   "source": [
    "## 605"
   ]
  },
  {
   "cell_type": "code",
   "execution_count": 15,
   "id": "7307bee2-c8d7-43c5-bd5c-a3605572cbb8",
   "metadata": {},
   "outputs": [],
   "source": [
    "class Solution:\n",
    "    def canPlaceFlowers(self, flowerbed, n: int) -> bool:\n",
    "        i = 0\n",
    "        pos_sum = 0\n",
    "        length = len(flowerbed)\n",
    "        while i < length:\n",
    "            if flowerbed[i] == 1:\n",
    "                i += 1\n",
    "            else:\n",
    "                zeros = 0\n",
    "                if i == 0:\n",
    "                    zeros += 1 \n",
    "                while i < length:\n",
    "                    if flowerbed[i] == 0 :\n",
    "                        if i == length - 1:\n",
    "                            zeros += 1\n",
    "                        i += 1\n",
    "                        zeros += 1\n",
    "                    else:\n",
    "                        break\n",
    "                \n",
    "                \n",
    "                pos = (zeros - 1) // 2\n",
    "                pos_sum += pos\n",
    "        print(pos_sum)\n",
    "        return pos_sum >= n\n",
    "                \n",
    "            "
   ]
  },
  {
   "cell_type": "code",
   "execution_count": 19,
   "id": "16c1a6ab-b6cb-4b96-9324-f50f59f4a585",
   "metadata": {},
   "outputs": [
    {
     "name": "stdout",
     "output_type": "stream",
     "text": [
      "1\n"
     ]
    },
    {
     "data": {
      "text/plain": [
       "False"
      ]
     },
     "execution_count": 19,
     "metadata": {},
     "output_type": "execute_result"
    }
   ],
   "source": [
    "s = Solution()\n",
    "s.canPlaceFlowers([0,0,0,1], 2)"
   ]
  },
  {
   "cell_type": "markdown",
   "id": "c90b8cd8-2f07-489a-89a8-10a8a291af55",
   "metadata": {
    "jp-MarkdownHeadingCollapsed": true,
    "tags": []
   },
   "source": [
    "## 452"
   ]
  },
  {
   "cell_type": "code",
   "execution_count": 102,
   "id": "95060d68-03eb-45af-9f48-d45d69eeef8c",
   "metadata": {},
   "outputs": [],
   "source": [
    "class Solution:\n",
    "    def findMinArrowShots(self, points) -> int:\n",
    "        points = sorted(points, key=lambda x: x[0])\n",
    "        shotpos = []\n",
    "        count = 0\n",
    "        l, r = 0, 0\n",
    "        for point in points:\n",
    "            flag = True\n",
    "            if not shotpos:\n",
    "                shotpos.append(point)\n",
    "                l = point[0]\n",
    "                r = point[1]\n",
    "            if point[0] > r:\n",
    "                flag = False\n",
    "                shotpos.append(point)\n",
    "                r = point[1]\n",
    "            r = max(point[1], r)\n",
    "            if point[0] > shotpos[0][1]:\n",
    "                shotpos.pop(0)\n",
    "                count += 1\n",
    "            \n",
    "            if flag:\n",
    "                # compute the smallest pos\n",
    "                for i in range(len(shotpos)):\n",
    "                    if point[0] < shotpos[i][0] and shotpos[i][0] <= point[1]:\n",
    "                        shotpos[i] = [shotpos[i][0], point[1]]\n",
    "                        flag = False\n",
    "                    elif point[0] >= shotpos[i][0] and point[1] <= shotpos[i][1]:\n",
    "                        shotpos[i] = [point[0], point[1]]\n",
    "                        flag = False\n",
    "                    elif point[0] <= shotpos[i][1] and shotpos[i][1] < point[1]:\n",
    "                        shotpos[i] = [point[0], shotpos[i][1]]\n",
    "                        flag = False\n",
    "                    else:\n",
    "                        continue\n",
    "                if flag:\n",
    "                    shotpos.append(point)\n",
    "        return len(shotpos) + count"
   ]
  },
  {
   "cell_type": "code",
   "execution_count": 103,
   "id": "b8612151-a2fd-4627-a707-cbcfe97d4623",
   "metadata": {},
   "outputs": [
    {
     "name": "stdout",
     "output_type": "stream",
     "text": [
      "\n",
      "\n",
      "\n"
     ]
    },
    {
     "data": {
      "text/plain": [
       "2"
      ]
     },
     "execution_count": 103,
     "metadata": {},
     "output_type": "execute_result"
    }
   ],
   "source": [
    "s = Solution()\n",
    "# s.findMinArrowShots([[10,16],[2,8],[1,6],[7,12]])\n",
    "print()\n",
    "# s.findMinArrowShots([[1,2],[2,3],[3,4],[4,5]])\n",
    "print()\n",
    "# s.findMinArrowShots([[0,9],[1,8],[7,8],[1,6],[9,16],[7,13],[7,10],[6,11],[6,9],[9,13]])\n",
    "print()\n",
    "s.findMinArrowShots([[3,4], [1,2]])\n"
   ]
  },
  {
   "cell_type": "markdown",
   "id": "13305256-321a-4de0-843c-b356611f8d12",
   "metadata": {
    "jp-MarkdownHeadingCollapsed": true,
    "tags": []
   },
   "source": [
    "## 763"
   ]
  },
  {
   "cell_type": "code",
   "execution_count": 30,
   "id": "a7a49886-ad57-4eb6-a56c-4beb49cf4522",
   "metadata": {},
   "outputs": [],
   "source": [
    "class Solution:\n",
    "    def partitionLabels(self, s: str):\n",
    "        l = 0        \n",
    "        res = []\n",
    "        temp = s[0]\n",
    "        while l < len(s):\n",
    "            visited = set()\n",
    "            # l is the left side of substring including temp as the left one \n",
    "            r = len(s) - 1\n",
    "\n",
    "            while l < r:\n",
    "                if s[r] != temp:\n",
    "                    r -= 1\n",
    "                else:\n",
    "                    break\n",
    "\n",
    "            # found the upper bound of substring where at least l and r are the same char\n",
    "            if r == len(s) - 1:\n",
    "                # no more split parts\n",
    "                res.append(len(s[l:]))\n",
    "                assert sum(res) == len(s)\n",
    "                return res\n",
    "            # update r\n",
    "            else:\n",
    "                k = l + 1\n",
    "                visited.add(temp)\n",
    "                while k < r:\n",
    "                    if s[k] in visited:\n",
    "                        k += 1\n",
    "                    else:\n",
    "                        temp = s[k]\n",
    "                        # new comer\n",
    "                        for x in range(len(s)-1, k, -1):\n",
    "                            if s[x] == temp:\n",
    "                                r = max(r, x)\n",
    "                                break\n",
    "                        visited.add(temp)\n",
    "                res.append(len(s[l:r+1]))\n",
    "                l = r + 1\n",
    "                if l < len(s):\n",
    "                    temp = s[l]\n",
    "                \n",
    "        # print(res)\n",
    "        return res\n",
    "            \n",
    "            "
   ]
  },
  {
   "cell_type": "code",
   "execution_count": 31,
   "id": "880cb724-2b6f-41c0-8357-5df211ff4ec8",
   "metadata": {},
   "outputs": [
    {
     "name": "stdout",
     "output_type": "stream",
     "text": [
      "[9, 7, 8]\n"
     ]
    },
    {
     "data": {
      "text/plain": [
       "[9, 7, 8]"
      ]
     },
     "execution_count": 31,
     "metadata": {},
     "output_type": "execute_result"
    }
   ],
   "source": [
    "s = Solution()\n",
    "\n",
    "s.partitionLabels(\"ababcbacadefegdehijhklij\")\n",
    "# s.partitionLabels('aaaabbb')\n",
    "\n"
   ]
  },
  {
   "cell_type": "markdown",
   "id": "a26c243a-6426-4d05-8252-9cac9724fd4c",
   "metadata": {},
   "source": [
    "## 122"
   ]
  },
  {
   "cell_type": "code",
   "execution_count": null,
   "id": "5f5d062d-b8ca-4578-aeef-6fb2050c462d",
   "metadata": {},
   "outputs": [],
   "source": [
    "class Solution:\n",
    "    def maxProfit(self, prices: List[int]) -> int:"
   ]
  },
  {
   "cell_type": "code",
   "execution_count": null,
   "id": "c53577e6-7da1-44b8-8eca-756b617be806",
   "metadata": {},
   "outputs": [],
   "source": [
    "s = Solution()\n",
    "s.partitionLabels(\"ababcbacadefegdehijhklij\")"
   ]
  },
  {
   "cell_type": "code",
   "execution_count": 43,
   "id": "6552ae87-1d1e-4994-9731-1cbd3e988b29",
   "metadata": {},
   "outputs": [
    {
     "name": "stdout",
     "output_type": "stream",
     "text": [
      "{'j': 18, 'i': 17, 'l': 21, 'k': 20, 'h': 16, 'e': 10, 'd': 9, 'g': 13, 'f': 11, 'a': 0, 'c': 4, 'b': 1}\n"
     ]
    }
   ],
   "source": [
    "a = \"ababcbacadefegdehijhklij\"\n",
    "last = {c: i for i, c in reversed(list(enumerate(a)))}\n",
    "print(last)"
   ]
  },
  {
   "cell_type": "code",
   "execution_count": 38,
   "id": "437a5096-a695-4faa-8042-d9eec5e33e58",
   "metadata": {},
   "outputs": [],
   "source": [
    "class Solution(object):\n",
    "    def partitionLabels(self, S):\n",
    "        last = {c: i for i, c in enumerate(S)}\n",
    "        j = anchor = 0\n",
    "        ans = []\n",
    "        for i, c in enumerate(S):\n",
    "            j = max(j, last[c])\n",
    "            if i == j:\n",
    "                ans.append(i - anchor + 1)\n",
    "                anchor = i + 1\n",
    "            \n",
    "        return ans"
   ]
  },
  {
   "cell_type": "code",
   "execution_count": 39,
   "id": "21031b53-a69b-4cdc-9504-e7b14deb10e6",
   "metadata": {},
   "outputs": [
    {
     "data": {
      "text/plain": [
       "[9, 7, 8]"
      ]
     },
     "execution_count": 39,
     "metadata": {},
     "output_type": "execute_result"
    }
   ],
   "source": [
    "s = Solution()\n",
    "s.partitionLabels(\"ababcbacadefegdehijhklij\")"
   ]
  },
  {
   "cell_type": "code",
   "execution_count": null,
   "id": "a62085d7-9010-4c48-91ae-a658c49b2f1d",
   "metadata": {},
   "outputs": [],
   "source": []
  }
 ],
 "metadata": {
  "kernelspec": {
   "display_name": "pybert",
   "language": "python",
   "name": "pybert"
  },
  "language_info": {
   "codemirror_mode": {
    "name": "ipython",
    "version": 3
   },
   "file_extension": ".py",
   "mimetype": "text/x-python",
   "name": "python",
   "nbconvert_exporter": "python",
   "pygments_lexer": "ipython3",
   "version": "3.8.13"
  }
 },
 "nbformat": 4,
 "nbformat_minor": 5
}
