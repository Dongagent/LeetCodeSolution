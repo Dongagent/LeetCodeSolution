{
 "cells": [
  {
   "cell_type": "markdown",
   "id": "d3ad1fbd-22af-4681-b299-b7ded1af8f4b",
   "metadata": {
    "jp-MarkdownHeadingCollapsed": true,
    "tags": []
   },
   "source": [
    "## 605"
   ]
  },
  {
   "cell_type": "code",
   "execution_count": 15,
   "id": "7307bee2-c8d7-43c5-bd5c-a3605572cbb8",
   "metadata": {},
   "outputs": [],
   "source": [
    "class Solution:\n",
    "    def canPlaceFlowers(self, flowerbed, n: int) -> bool:\n",
    "        i = 0\n",
    "        pos_sum = 0\n",
    "        length = len(flowerbed)\n",
    "        while i < length:\n",
    "            if flowerbed[i] == 1:\n",
    "                i += 1\n",
    "            else:\n",
    "                zeros = 0\n",
    "                if i == 0:\n",
    "                    zeros += 1 \n",
    "                while i < length:\n",
    "                    if flowerbed[i] == 0 :\n",
    "                        if i == length - 1:\n",
    "                            zeros += 1\n",
    "                        i += 1\n",
    "                        zeros += 1\n",
    "                    else:\n",
    "                        break\n",
    "                \n",
    "                \n",
    "                pos = (zeros - 1) // 2\n",
    "                pos_sum += pos\n",
    "        print(pos_sum)\n",
    "        return pos_sum >= n\n",
    "                \n",
    "            "
   ]
  },
  {
   "cell_type": "code",
   "execution_count": 19,
   "id": "16c1a6ab-b6cb-4b96-9324-f50f59f4a585",
   "metadata": {},
   "outputs": [
    {
     "name": "stdout",
     "output_type": "stream",
     "text": [
      "1\n"
     ]
    },
    {
     "data": {
      "text/plain": [
       "False"
      ]
     },
     "execution_count": 19,
     "metadata": {},
     "output_type": "execute_result"
    }
   ],
   "source": [
    "s = Solution()\n",
    "s.canPlaceFlowers([0,0,0,1], 2)"
   ]
  },
  {
   "cell_type": "markdown",
   "id": "c90b8cd8-2f07-489a-89a8-10a8a291af55",
   "metadata": {
    "jp-MarkdownHeadingCollapsed": true,
    "tags": []
   },
   "source": [
    "## 452"
   ]
  },
  {
   "cell_type": "code",
   "execution_count": 102,
   "id": "95060d68-03eb-45af-9f48-d45d69eeef8c",
   "metadata": {},
   "outputs": [],
   "source": [
    "class Solution:\n",
    "    def findMinArrowShots(self, points) -> int:\n",
    "        points = sorted(points, key=lambda x: x[0])\n",
    "        shotpos = []\n",
    "        count = 0\n",
    "        l, r = 0, 0\n",
    "        for point in points:\n",
    "            flag = True\n",
    "            if not shotpos:\n",
    "                shotpos.append(point)\n",
    "                l = point[0]\n",
    "                r = point[1]\n",
    "            if point[0] > r:\n",
    "                flag = False\n",
    "                shotpos.append(point)\n",
    "                r = point[1]\n",
    "            r = max(point[1], r)\n",
    "            if point[0] > shotpos[0][1]:\n",
    "                shotpos.pop(0)\n",
    "                count += 1\n",
    "            \n",
    "            if flag:\n",
    "                # compute the smallest pos\n",
    "                for i in range(len(shotpos)):\n",
    "                    if point[0] < shotpos[i][0] and shotpos[i][0] <= point[1]:\n",
    "                        shotpos[i] = [shotpos[i][0], point[1]]\n",
    "                        flag = False\n",
    "                    elif point[0] >= shotpos[i][0] and point[1] <= shotpos[i][1]:\n",
    "                        shotpos[i] = [point[0], point[1]]\n",
    "                        flag = False\n",
    "                    elif point[0] <= shotpos[i][1] and shotpos[i][1] < point[1]:\n",
    "                        shotpos[i] = [point[0], shotpos[i][1]]\n",
    "                        flag = False\n",
    "                    else:\n",
    "                        continue\n",
    "                if flag:\n",
    "                    shotpos.append(point)\n",
    "        return len(shotpos) + count"
   ]
  },
  {
   "cell_type": "code",
   "execution_count": 103,
   "id": "b8612151-a2fd-4627-a707-cbcfe97d4623",
   "metadata": {},
   "outputs": [
    {
     "name": "stdout",
     "output_type": "stream",
     "text": [
      "\n",
      "\n",
      "\n"
     ]
    },
    {
     "data": {
      "text/plain": [
       "2"
      ]
     },
     "execution_count": 103,
     "metadata": {},
     "output_type": "execute_result"
    }
   ],
   "source": [
    "s = Solution()\n",
    "# s.findMinArrowShots([[10,16],[2,8],[1,6],[7,12]])\n",
    "print()\n",
    "# s.findMinArrowShots([[1,2],[2,3],[3,4],[4,5]])\n",
    "print()\n",
    "# s.findMinArrowShots([[0,9],[1,8],[7,8],[1,6],[9,16],[7,13],[7,10],[6,11],[6,9],[9,13]])\n",
    "print()\n",
    "s.findMinArrowShots([[3,4], [1,2]])\n"
   ]
  },
  {
   "cell_type": "markdown",
   "id": "13305256-321a-4de0-843c-b356611f8d12",
   "metadata": {},
   "source": [
    "## 763"
   ]
  },
  {
   "cell_type": "markdown",
   "id": "a26c243a-6426-4d05-8252-9cac9724fd4c",
   "metadata": {},
   "source": [
    "## 122"
   ]
  },
  {
   "cell_type": "code",
   "execution_count": null,
   "id": "5f5d062d-b8ca-4578-aeef-6fb2050c462d",
   "metadata": {},
   "outputs": [],
   "source": []
  }
 ],
 "metadata": {
  "kernelspec": {
   "display_name": "Python 3 (ipykernel)",
   "language": "python",
   "name": "python3"
  },
  "language_info": {
   "codemirror_mode": {
    "name": "ipython",
    "version": 3
   },
   "file_extension": ".py",
   "mimetype": "text/x-python",
   "name": "python",
   "nbconvert_exporter": "python",
   "pygments_lexer": "ipython3",
   "version": "3.8.3"
  }
 },
 "nbformat": 4,
 "nbformat_minor": 5
}
