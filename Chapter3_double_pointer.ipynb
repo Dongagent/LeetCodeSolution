{
 "cells": [
  {
   "cell_type": "markdown",
   "id": "73b4ce96-70f5-46da-ba69-8319f7893e51",
   "metadata": {},
   "source": [
    "# Tutorial"
   ]
  },
  {
   "cell_type": "markdown",
   "id": "b9fea139-00b4-4fa2-bd3d-aa014a800585",
   "metadata": {
    "jp-MarkdownHeadingCollapsed": true,
    "tags": []
   },
   "source": [
    "## 167"
   ]
  },
  {
   "cell_type": "code",
   "execution_count": 1,
   "id": "e927ed02-e757-46c0-b5b1-be2a2a879aa1",
   "metadata": {},
   "outputs": [],
   "source": [
    "class Solution:\n",
    "    def twoSum(self, numbers, target: int):\n",
    "        l = 0\n",
    "        r = len(numbers) - 1\n",
    "        while l < r:\n",
    "            if numbers[l] + numbers[r] == target:\n",
    "                return [l+1, r+1]\n",
    "            elif numbers[l] + numbers[r] > target:\n",
    "                r -= 1\n",
    "            else:\n",
    "                l += 1"
   ]
  },
  {
   "cell_type": "code",
   "execution_count": 2,
   "id": "4c9fe2d8-27de-457b-ae75-87a1194f0bff",
   "metadata": {},
   "outputs": [
    {
     "data": {
      "text/plain": [
       "[1, 2]"
      ]
     },
     "execution_count": 2,
     "metadata": {},
     "output_type": "execute_result"
    }
   ],
   "source": [
    "s = Solution()\n",
    "s.twoSum([2, 4, 6, 9], 6)"
   ]
  },
  {
   "cell_type": "markdown",
   "id": "05ebc405-43be-4fdd-a049-1e862ef839c9",
   "metadata": {
    "jp-MarkdownHeadingCollapsed": true,
    "tags": []
   },
   "source": [
    "## 88"
   ]
  },
  {
   "cell_type": "code",
   "execution_count": 8,
   "id": "a020b1df-fed7-465c-8970-9100e4b2fe9c",
   "metadata": {},
   "outputs": [],
   "source": [
    "class Solution:\n",
    "    def merge(self, nums1, m: int, nums2, n: int) -> None:\n",
    "        \"\"\"\n",
    "        Do not return anything, modify nums1 in-place instead.\n",
    "        \"\"\"\n",
    "        i = m + n - 1\n",
    "        j = m\n",
    "        k = n\n",
    "        while k > 0 and j > 0:\n",
    "            if nums1[j-1] <= nums2[k-1]:\n",
    "                nums1[i] = nums2[k-1]\n",
    "                k -= 1\n",
    "            else:\n",
    "                nums1[i] = nums1[j-1]\n",
    "                j -= 1\n",
    "            i -= 1\n",
    "        if k > 0:\n",
    "            while i >= 0:\n",
    "                nums1[i] = nums2[k-1]\n",
    "                k -= 1\n",
    "                i -= 1"
   ]
  },
  {
   "cell_type": "code",
   "execution_count": 10,
   "id": "5cfe606c-d70b-404f-b4e4-69545c003db1",
   "metadata": {},
   "outputs": [
    {
     "name": "stdout",
     "output_type": "stream",
     "text": [
      "[1, 2, 2, 3, 5, 6]\n",
      "[1, 2, 2, 3, 5, 6]\n"
     ]
    }
   ],
   "source": [
    "s = Solution()\n",
    "nums1 = [1,2,3,0,0,0]\n",
    "m = 3\n",
    "nums2 = [2,5,6]\n",
    "n = 3\n",
    "s.merge(nums1, m, nums2, n)\n",
    "print(nums1)"
   ]
  },
  {
   "cell_type": "markdown",
   "id": "969e2ccf-22cd-4f88-9328-948bd07eac8e",
   "metadata": {
    "jp-MarkdownHeadingCollapsed": true,
    "tags": []
   },
   "source": [
    "## 142"
   ]
  },
  {
   "cell_type": "code",
   "execution_count": null,
   "id": "470d8ae4-a814-4363-a827-75b7a65360c7",
   "metadata": {},
   "outputs": [],
   "source": [
    "class Solution:\n",
    "    def detectCycle(self, head: Optional[ListNode]) -> Optional[ListNode]:\n",
    "        slow = head\n",
    "        fast = head\n",
    "        flag = False\n",
    "        while True:\n",
    "            if not fast or not fast.next:\n",
    "                return None\n",
    "            slow = slow.next\n",
    "            fast = fast.next.next\n",
    "            if fast == slow:\n",
    "                break\n",
    "        fast = head\n",
    "        while fast != slow:\n",
    "            fast = fast.next\n",
    "            slow = slow.next\n",
    "        return fast"
   ]
  },
  {
   "cell_type": "markdown",
   "id": "63bb104d-41df-454a-8564-838b5c591cce",
   "metadata": {
    "tags": []
   },
   "source": [
    "## 76"
   ]
  },
  {
   "cell_type": "code",
   "execution_count": 6,
   "id": "65426ab4-6dc2-4201-b1fc-b89fbdb58969",
   "metadata": {},
   "outputs": [],
   "source": [
    "class Solution:\n",
    "    def minWindow(self, s: str, t: str) -> str:\n",
    "        i = 0\n",
    "        flag = True\n",
    "        # refdic = {i: for i in t}\n",
    "        while i < len(s):\n",
    "            if s[i] in t:\n",
    "                flag = False\n",
    "                break\n",
    "            i += 1\n",
    "        if flag:\n",
    "            return \"\"\n",
    "        res = \"\"\n",
    "        helperlist = {}\n",
    "        for x in t:\n",
    "            if x in helperlist.keys():\n",
    "                helperlist[x] += 1\n",
    "            else:\n",
    "                helperlist[x] = 1\n",
    "        cnt = 0\n",
    "        min_l = 0\n",
    "        min_size = len(s) + 1\n",
    "        l = 0\n",
    "        for r in range(0, len(s)):\n",
    "            if s[r] in t:\n",
    "                helperlist[s[r]] -= 1\n",
    "                if helperlist[s[r]] >= 0:\n",
    "                    cnt += 1\n",
    "                while cnt == len(t):\n",
    "                    # print('l', l)\n",
    "                    if r - l + 1 < min_size:\n",
    "                        min_l = l\n",
    "                        min_size = r - l + 1\n",
    "                    if s[l] in t:\n",
    "                        helperlist[s[l]] += 1\n",
    "                        if helperlist[s[l]] > 0:\n",
    "                            cnt -= 1\n",
    "                    l += 1\n",
    "        if min_size > len(s):\n",
    "            return \"\"\n",
    "        else:\n",
    "            return s[min_l:min_l+min_size]"
   ]
  },
  {
   "cell_type": "code",
   "execution_count": 8,
   "id": "6087ddc3-41c9-49c7-8985-024a8459df94",
   "metadata": {},
   "outputs": [
    {
     "name": "stdout",
     "output_type": "stream",
     "text": [
      "BANC\n"
     ]
    }
   ],
   "source": [
    "ss = Solution()\n",
    "s = \"ADOBECODEBANC\"\n",
    "t = \"ABC\"\n",
    "print(ss.minWindow(s, t))"
   ]
  },
  {
   "cell_type": "markdown",
   "id": "0dd0d931-0888-4118-ae68-a07616047a9f",
   "metadata": {},
   "source": [
    "# Basic"
   ]
  },
  {
   "cell_type": "markdown",
   "id": "67f4f054-f0a2-4628-adb1-a70846401a92",
   "metadata": {},
   "source": [
    "## 633"
   ]
  },
  {
   "cell_type": "code",
   "execution_count": null,
   "id": "7174db7b-a5c9-458a-90af-7528f254dd28",
   "metadata": {},
   "outputs": [],
   "source": [
    "class Solution:\n",
    "    def judgeSquareSum(self, c: int) -> bool:\n",
    "        l = 0\n",
    "        r = 0\n",
    "        if c <= 1:\n",
    "            return True\n",
    "        while l ** 2 + r ** 2 < c:\n",
    "            r += 1\n",
    "        while l <= r:\n",
    "            if l ** 2 + r ** 2 == c:\n",
    "                return True\n",
    "            elif l ** 2 + r ** 2 < c:\n",
    "                l += 1\n",
    "            else:\n",
    "                r -= 1\n",
    "        return False"
   ]
  },
  {
   "cell_type": "code",
   "execution_count": null,
   "id": "2583871d-b3ae-47b2-8be9-09c768043d56",
   "metadata": {},
   "outputs": [],
   "source": []
  },
  {
   "cell_type": "markdown",
   "id": "721dbaf9-8d78-4f75-9273-e4f3d60e81ab",
   "metadata": {},
   "source": [
    "## 680"
   ]
  },
  {
   "cell_type": "code",
   "execution_count": null,
   "id": "99805b96-2319-4ce1-9488-f80adc8b34e3",
   "metadata": {},
   "outputs": [],
   "source": [
    "class Solution:\n",
    "    def validPalindrome(self, s: str) -> bool:\n",
    "        l = 0\n",
    "        r = len(s) - 1\n",
    "        while l < r:\n",
    "            if s[l] != s[r]:\n",
    "                # either skip l or skip r\n",
    "                sk_l = s[l+1:r+1]\n",
    "                sk_r = s[l:r]\n",
    "                return sk_l == sk_l[::-1] or sk_r == sk_r[::-1]\n",
    "            else:\n",
    "                l += 1\n",
    "                r -= 1\n",
    "        return True"
   ]
  },
  {
   "cell_type": "markdown",
   "id": "803e51bc-312f-4d5c-a936-b07087b5d219",
   "metadata": {},
   "source": [
    "## 524"
   ]
  },
  {
   "cell_type": "code",
   "execution_count": null,
   "id": "4b63b0c8-d47d-40ff-933f-0adaf85141bf",
   "metadata": {},
   "outputs": [],
   "source": [
    "class Solution:\n",
    "    def findLongestWord(self, s: str, dictionary: List[str]) -> str:\n",
    "        dictionary.sort(key=str.lower)\n",
    "        # print(dictionary)\n",
    "        res = \"\"\n",
    "        rescount = len(s)\n",
    "        for word in dictionary:\n",
    "            i = 0 # \n",
    "            j = 0\n",
    "            flag = True\n",
    "            shift = 0\n",
    "            if len(word) > len(s):\n",
    "                continue\n",
    "            # find the first character\n",
    "            while shift < len(s):\n",
    "                if s[shift] != word[0]:\n",
    "                    shift += 1\n",
    "                else:\n",
    "                    break\n",
    "\n",
    "            while i < len(word) and j < len(s):\n",
    "                if word[i] == s[j]:\n",
    "                    i += 1\n",
    "                    j += 1\n",
    "                else:\n",
    "                    j += 1\n",
    "                    if j >= len(s):\n",
    "                        flag = False\n",
    "                        break\n",
    "            # print(j-i-shift)\n",
    "            # print(word)\n",
    "            if i != len(word):\n",
    "                flag = False\n",
    "\n",
    "            if flag:\n",
    "                if len(res) < len(word):\n",
    "                    res = word\n",
    "                    rescount = j - i - shift\n",
    "\n",
    "        return res"
   ]
  }
 ],
 "metadata": {
  "kernelspec": {
   "display_name": "leetcode",
   "language": "python",
   "name": "leetcode"
  },
  "language_info": {
   "codemirror_mode": {
    "name": "ipython",
    "version": 3
   },
   "file_extension": ".py",
   "mimetype": "text/x-python",
   "name": "python",
   "nbconvert_exporter": "python",
   "pygments_lexer": "ipython3",
   "version": "3.10.10"
  }
 },
 "nbformat": 4,
 "nbformat_minor": 5
}
