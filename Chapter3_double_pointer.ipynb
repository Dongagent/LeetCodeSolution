{
 "cells": [
  {
   "cell_type": "markdown",
   "id": "73b4ce96-70f5-46da-ba69-8319f7893e51",
   "metadata": {},
   "source": [
    "# Tutorial"
   ]
  },
  {
   "cell_type": "markdown",
   "id": "b9fea139-00b4-4fa2-bd3d-aa014a800585",
   "metadata": {},
   "source": [
    "## 167"
   ]
  },
  {
   "cell_type": "code",
   "execution_count": 1,
   "id": "e927ed02-e757-46c0-b5b1-be2a2a879aa1",
   "metadata": {},
   "outputs": [
    {
     "ename": "NameError",
     "evalue": "name 'List' is not defined",
     "output_type": "error",
     "traceback": [
      "\u001b[0;31m---------------------------------------------------------------------------\u001b[0m",
      "\u001b[0;31mNameError\u001b[0m                                 Traceback (most recent call last)",
      "Cell \u001b[0;32mIn [1], line 1\u001b[0m\n\u001b[0;32m----> 1\u001b[0m \u001b[38;5;28;01mclass\u001b[39;00m \u001b[38;5;21;01mSolution\u001b[39;00m:\n\u001b[1;32m      2\u001b[0m     \u001b[38;5;28;01mdef\u001b[39;00m \u001b[38;5;21mtwoSum\u001b[39m(\u001b[38;5;28mself\u001b[39m, numbers: List[\u001b[38;5;28mint\u001b[39m], target: \u001b[38;5;28mint\u001b[39m) \u001b[38;5;241m-\u001b[39m\u001b[38;5;241m>\u001b[39m List[\u001b[38;5;28mint\u001b[39m]:\n\u001b[1;32m      3\u001b[0m         \u001b[38;5;28;01mpass\u001b[39;00m\n",
      "Cell \u001b[0;32mIn [1], line 2\u001b[0m, in \u001b[0;36mSolution\u001b[0;34m()\u001b[0m\n\u001b[1;32m      1\u001b[0m \u001b[38;5;28;01mclass\u001b[39;00m \u001b[38;5;21;01mSolution\u001b[39;00m:\n\u001b[0;32m----> 2\u001b[0m     \u001b[38;5;28;01mdef\u001b[39;00m \u001b[38;5;21mtwoSum\u001b[39m(\u001b[38;5;28mself\u001b[39m, numbers: \u001b[43mList\u001b[49m[\u001b[38;5;28mint\u001b[39m], target: \u001b[38;5;28mint\u001b[39m) \u001b[38;5;241m-\u001b[39m\u001b[38;5;241m>\u001b[39m List[\u001b[38;5;28mint\u001b[39m]:\n\u001b[1;32m      3\u001b[0m         \u001b[38;5;28;01mpass\u001b[39;00m\n",
      "\u001b[0;31mNameError\u001b[0m: name 'List' is not defined"
     ]
    }
   ],
   "source": [
    "class Solution:\n",
    "    def twoSum(self, numbers: List[int], target: int) -> List[int]:\n",
    "        pass"
   ]
  },
  {
   "cell_type": "code",
   "execution_count": null,
   "id": "4c9fe2d8-27de-457b-ae75-87a1194f0bff",
   "metadata": {},
   "outputs": [],
   "source": [
    "s = Solution()"
   ]
  },
  {
   "cell_type": "markdown",
   "id": "05ebc405-43be-4fdd-a049-1e862ef839c9",
   "metadata": {},
   "source": [
    "## 88"
   ]
  },
  {
   "cell_type": "markdown",
   "id": "969e2ccf-22cd-4f88-9328-948bd07eac8e",
   "metadata": {},
   "source": [
    "## 142"
   ]
  },
  {
   "cell_type": "markdown",
   "id": "63bb104d-41df-454a-8564-838b5c591cce",
   "metadata": {},
   "source": [
    "## 76"
   ]
  },
  {
   "cell_type": "markdown",
   "id": "0dd0d931-0888-4118-ae68-a07616047a9f",
   "metadata": {},
   "source": [
    "# Basic"
   ]
  },
  {
   "cell_type": "markdown",
   "id": "67f4f054-f0a2-4628-adb1-a70846401a92",
   "metadata": {},
   "source": [
    "## 633"
   ]
  },
  {
   "cell_type": "markdown",
   "id": "721dbaf9-8d78-4f75-9273-e4f3d60e81ab",
   "metadata": {},
   "source": [
    "## 680"
   ]
  },
  {
   "cell_type": "markdown",
   "id": "803e51bc-312f-4d5c-a936-b07087b5d219",
   "metadata": {},
   "source": [
    "## 524"
   ]
  },
  {
   "cell_type": "code",
   "execution_count": null,
   "id": "eb34055b-4edd-4fb3-b247-ee57de886b7e",
   "metadata": {},
   "outputs": [],
   "source": []
  },
  {
   "cell_type": "code",
   "execution_count": null,
   "id": "0c6f443f-0b7d-4d6c-abd5-7ec86435f504",
   "metadata": {},
   "outputs": [],
   "source": []
  }
 ],
 "metadata": {
  "kernelspec": {
   "display_name": "pybert",
   "language": "python",
   "name": "pybert"
  },
  "language_info": {
   "codemirror_mode": {
    "name": "ipython",
    "version": 3
   },
   "file_extension": ".py",
   "mimetype": "text/x-python",
   "name": "python",
   "nbconvert_exporter": "python",
   "pygments_lexer": "ipython3",
   "version": "3.8.13"
  }
 },
 "nbformat": 4,
 "nbformat_minor": 5
}
