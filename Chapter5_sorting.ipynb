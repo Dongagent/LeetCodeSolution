{
 "cells": [
  {
   "cell_type": "markdown",
   "id": "a9e1d5c5-9f9e-4b2a-afb6-777e75147f9a",
   "metadata": {},
   "source": [
    "# Chapter 5 Sorting"
   ]
  },
  {
   "cell_type": "markdown",
   "id": "7f2e7511-b1c9-4422-903a-17e967533265",
   "metadata": {
    "tags": []
   },
   "source": [
    "## QuickSort"
   ]
  },
  {
   "cell_type": "code",
   "execution_count": 30,
   "id": "5678ab68-72bf-4053-814f-b725054672d9",
   "metadata": {},
   "outputs": [],
   "source": [
    "# 左闭右闭的二分写法\n",
    "def myQuicksort(mylist, l, r):\n",
    "    if (l + 1) >= r:\n",
    "        return \n",
    "    first = l\n",
    "    last = r - 1\n",
    "    key = mylist[first]\n",
    "    while first < last:\n",
    "        while first < last and mylist[last] >= key:\n",
    "            last -= 1\n",
    "        mylist[first] = mylist[last]\n",
    "        while first < last and mylist[first] <= key:\n",
    "            first += 1\n",
    "        mylist[last] = mylist[first]\n",
    "    mylist[first] = key\n",
    "    myQuicksort(mylist, l, first)\n",
    "    myQuicksort(mylist, first + 1, r)\n",
    "            "
   ]
  },
  {
   "cell_type": "code",
   "execution_count": 31,
   "id": "969700eb-f828-4c2b-a5a9-f17f09a0807f",
   "metadata": {},
   "outputs": [
    {
     "name": "stdout",
     "output_type": "stream",
     "text": [
      "[1, 2, 3, 4, 5]\n"
     ]
    }
   ],
   "source": [
    "a = [5, 4, 1, 3, 2]\n",
    "myQuicksort(a, 0, 5)\n",
    "print(a)"
   ]
  },
  {
   "cell_type": "code",
   "execution_count": null,
   "id": "4207f577-f52f-4c22-a12f-4ea9934b2af0",
   "metadata": {},
   "outputs": [],
   "source": []
  },
  {
   "cell_type": "code",
   "execution_count": 40,
   "id": "3c2e40b6-3faa-44ab-81be-ed865c239a25",
   "metadata": {},
   "outputs": [
    {
     "name": "stdout",
     "output_type": "stream",
     "text": [
      "[1, 1, 2, 3, 3, 4, 4, 5]\n"
     ]
    }
   ],
   "source": [
    "# 通用写法\n",
    "def partition(nums, low, high):\n",
    "    # 进行分区操作，选取第一个值为基准\n",
    "    pivot = nums[low]\n",
    "    l = low\n",
    "    r = high\n",
    "    while l < r:\n",
    "        # r从右向左扫比pivot小的值\n",
    "        while l < r and nums[r] >= pivot:\n",
    "            r -= 1\n",
    "        # 不满足上述条件时，nums[r]<pivot,应该放在左边，所以将l位置赋值为r\n",
    "        # *** 此时r位置空出 ***\n",
    "        nums[l] = nums[r]\n",
    "        # l从左向右走，如果值小于pivot则位置不变, l右移\n",
    "        while l < r and nums[l] < pivot:\n",
    "            l += 1\n",
    "        # 不满足上述条件时，nums[l]>=pivot,应该放在右边，所以将h位置赋值为i\n",
    "        # 此时r位置空出\n",
    "        nums[r] = nums[l]\n",
    "    # 将pivot的值放到正确的索引位置\n",
    "    nums[l] = pivot\n",
    "    return l\n",
    "\n",
    "def quickSort(arr, low, high):\n",
    "    # arr[] --> 待排序数组\n",
    "    # low --> 起始索引\n",
    "    # high --> 结束索引\n",
    "    if low < high:\n",
    "        pi = partition(arr, low, high) # pi 为基准的正确索引位置\n",
    "        quickSort(arr, low, pi - 1)\n",
    "        quickSort(arr, pi + 1, high)\n",
    "    return arr\n",
    "        \n",
    "a = [5, 4, 4, 1, 3, 3, 1, 2]\n",
    "quickSort(a, 0, len(a) - 1)\n",
    "print(a)  \n",
    "    "
   ]
  },
  {
   "cell_type": "markdown",
   "id": "3ea27c9f-cffe-4a74-9bcd-654f26945e96",
   "metadata": {},
   "source": [
    "[3,2,3,1,2,4,5,5,6]\n",
    "3\n",
    "2 2 1 3 3 4 5 5 6"
   ]
  },
  {
   "cell_type": "markdown",
   "id": "f97a16cf-e5fd-459e-a5a9-732008706f89",
   "metadata": {},
   "source": [
    "## Tutorial"
   ]
  },
  {
   "cell_type": "markdown",
   "id": "58b2d95a-b5d0-42f4-a625-702f993a64e8",
   "metadata": {},
   "source": [
    "### 215. Kth Largest Element in an Array"
   ]
  },
  {
   "cell_type": "code",
   "execution_count": null,
   "id": "e3606477-8e8b-409f-a042-2a312a52ce54",
   "metadata": {},
   "outputs": [],
   "source": []
  },
  {
   "cell_type": "code",
   "execution_count": 55,
   "id": "2505d24e-d79f-43a9-8178-7d2999754b2f",
   "metadata": {},
   "outputs": [],
   "source": [
    "class Solution:\n",
    "    def findKthLargest(self, nums, k: int) -> int:\n",
    "\n",
    "        def partition(nums, low, high):\n",
    "            l = low\n",
    "            r = high\n",
    "            key = nums[l]\n",
    "            while l < r:\n",
    "                while l < r and nums[r] >= key:\n",
    "                    r -= 1\n",
    "                nums[l] = nums[r]\n",
    "                while l < r and nums[l] < key:\n",
    "                    l += 1\n",
    "                nums[r] = nums[l]\n",
    "            nums[l] = key\n",
    "            return l\n",
    "        \n",
    "        i = 0\n",
    "        j = len(nums) - 1\n",
    "        if len(nums) == 1:\n",
    "            return nums[0]\n",
    "        target = len(nums) - k\n",
    "        while i <= j:\n",
    "            pivot = partition(nums, i, j)\n",
    "            # print(pivot)\n",
    "            if pivot == target:\n",
    "                # print(pivot)\n",
    "                return nums[pivot]\n",
    "            elif pivot < target:\n",
    "                i = pivot + 1\n",
    "            else:\n",
    "                j = pivot - 1\n",
    "                \n",
    "        \n",
    "            "
   ]
  },
  {
   "cell_type": "code",
   "execution_count": 56,
   "id": "eeef1264-9aa1-4255-97b3-b89735b56ec4",
   "metadata": {},
   "outputs": [
    {
     "name": "stdout",
     "output_type": "stream",
     "text": [
      "0\n"
     ]
    }
   ],
   "source": [
    "s = Solution()\n",
    "print(s.findKthLargest([-1,2,0], 2))"
   ]
  },
  {
   "cell_type": "markdown",
   "id": "2187c0a8-1ecc-4c6e-9521-d87de0572b94",
   "metadata": {},
   "source": [
    "### 347. Top K Frequent Elements (Medium)"
   ]
  },
  {
   "cell_type": "code",
   "execution_count": null,
   "id": "58a2cff8-92e8-4b95-8902-a914a4df97ad",
   "metadata": {},
   "outputs": [],
   "source": []
  },
  {
   "cell_type": "markdown",
   "id": "5191471e-c79c-4a7e-bd50-2690af56300b",
   "metadata": {},
   "source": [
    "## Basic"
   ]
  },
  {
   "cell_type": "markdown",
   "id": "2c03a818-c29a-4db1-b43d-fa68e056d0f0",
   "metadata": {},
   "source": [
    "### 451. Sort Characters By Frequency (Medium)"
   ]
  },
  {
   "cell_type": "code",
   "execution_count": null,
   "id": "3e867577-ae25-4d95-844c-1c106ba5f9ce",
   "metadata": {},
   "outputs": [],
   "source": [
    "class Solution:\n",
    "    def frequencySort(self, s: str) -> str:\n",
    "        mycount = {}\n",
    "        for i in s:\n",
    "            if i not in mycount:\n",
    "                mycount[i] = 1\n",
    "            else:\n",
    "                mycount[i] += 1\n",
    "\n",
    "        # sort\n",
    "        reslist = sorted(mycount.items(), key=lambda x:x[1], reverse=True)\n",
    "        res = ''\n",
    "        for ss in reslist:\n",
    "            for x in range(ss[1]):\n",
    "                res += ss[0]\n",
    "        return res"
   ]
  },
  {
   "cell_type": "markdown",
   "id": "e1ae3303-61cb-475a-9f27-df49aee1d546",
   "metadata": {},
   "source": [
    "### 75. Sort Colors (Medium)"
   ]
  },
  {
   "cell_type": "code",
   "execution_count": null,
   "id": "a67fe66a-4298-417d-b1cf-7f84a8154a60",
   "metadata": {},
   "outputs": [],
   "source": []
  }
 ],
 "metadata": {
  "kernelspec": {
   "display_name": "lc",
   "language": "python",
   "name": "lc"
  },
  "language_info": {
   "codemirror_mode": {
    "name": "ipython",
    "version": 3
   },
   "file_extension": ".py",
   "mimetype": "text/x-python",
   "name": "python",
   "nbconvert_exporter": "python",
   "pygments_lexer": "ipython3",
   "version": "3.10.10"
  }
 },
 "nbformat": 4,
 "nbformat_minor": 5
}
