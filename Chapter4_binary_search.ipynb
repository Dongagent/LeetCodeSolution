{
 "cells": [
  {
   "cell_type": "markdown",
   "id": "5dd62acb-3eff-4ce9-9e02-c4f925b8a960",
   "metadata": {},
   "source": [
    "# Binary search"
   ]
  },
  {
   "cell_type": "markdown",
   "id": "75a4aa81-57da-49e1-af5a-be67d5d8e533",
   "metadata": {},
   "source": [
    "## Tutorial"
   ]
  },
  {
   "cell_type": "markdown",
   "id": "0b5fbcdb-929f-47af-a13a-0f183846132a",
   "metadata": {
    "jp-MarkdownHeadingCollapsed": true,
    "tags": []
   },
   "source": [
    "### 69"
   ]
  },
  {
   "cell_type": "code",
   "execution_count": 1,
   "id": "1e36c285-289c-45f0-b25c-b40f1fd7613c",
   "metadata": {},
   "outputs": [],
   "source": [
    "class Solution:\n",
    "    def mySqrt(self, x: int) -> int:\n",
    "        if x == 0:\n",
    "            return x\n",
    "        l = 1\n",
    "        r = x\n",
    "        res = 0\n",
    "        while l <= r:\n",
    "            print(l, r)\n",
    "            mid = l + (r - l) // 2\n",
    "            if mid ** 2 == x:\n",
    "                res = mid\n",
    "                break\n",
    "            elif mid ** 2 > x:\n",
    "                r = mid - 1\n",
    "                # print(r)\n",
    "            else:\n",
    "                l = mid + 1\n",
    "        if res == 0:\n",
    "            res = r\n",
    "\n",
    "        return res"
   ]
  },
  {
   "cell_type": "code",
   "execution_count": 2,
   "id": "b78b528d-67f4-4717-9858-a3050705ae32",
   "metadata": {},
   "outputs": [
    {
     "name": "stdout",
     "output_type": "stream",
     "text": [
      "1 8\n",
      "1 3\n",
      "3 3\n"
     ]
    },
    {
     "data": {
      "text/plain": [
       "2"
      ]
     },
     "execution_count": 2,
     "metadata": {},
     "output_type": "execute_result"
    }
   ],
   "source": [
    "s = Solution()\n",
    "s.mySqrt(8)"
   ]
  },
  {
   "cell_type": "markdown",
   "id": "d9c625ec-8cec-4c8d-8226-45c727255077",
   "metadata": {
    "jp-MarkdownHeadingCollapsed": true,
    "tags": []
   },
   "source": [
    "### 34 (write it again and again)"
   ]
  },
  {
   "cell_type": "code",
   "execution_count": 1,
   "id": "e7dbcdd9-c8c9-4898-86e8-22f8f78bcd29",
   "metadata": {},
   "outputs": [
    {
     "name": "stdout",
     "output_type": "stream",
     "text": [
      "Python 3.10.10\n"
     ]
    }
   ],
   "source": [
    "!python --version"
   ]
  },
  {
   "cell_type": "code",
   "execution_count": 2,
   "id": "292ed380-e410-4eba-bcf5-8c13895f3f40",
   "metadata": {},
   "outputs": [
    {
     "name": "stdout",
     "output_type": "stream",
     "text": [
      "/usr/local/Caskroom/miniconda/base/bin/python\n"
     ]
    }
   ],
   "source": [
    "!which python"
   ]
  },
  {
   "cell_type": "code",
   "execution_count": 11,
   "id": "9919c1fb-9504-4fb3-8213-05fa3babb724",
   "metadata": {
    "tags": []
   },
   "outputs": [],
   "source": [
    "class Solution:\n",
    "    def searchRange(self, nums, target):\n",
    "        l = 0\n",
    "        r = len(nums)\n",
    "        lower, upper = -1, -1\n",
    "        if nums == []:\n",
    "            return [lower, upper]\n",
    "        # lower bound\n",
    "        \n",
    "        while l < r:\n",
    "            mid = l + (r - l) // 2\n",
    "            print(mid)\n",
    "            if nums[mid] >= target:\n",
    "                r = mid\n",
    "            else:\n",
    "                l = mid + 1\n",
    "        print('l', lower)\n",
    "        \n",
    "        if nums[l] == target:\n",
    "            lower = l\n",
    "\n",
    "        # upper bound\n",
    "        l = 0\n",
    "        r = len(nums)\n",
    "        while l < r:\n",
    "            mid = l + (r - l) // 2\n",
    "            if nums[mid] > target:\n",
    "                r = mid \n",
    "            else:\n",
    "                l = mid + 1\n",
    "        print(nums[l-1])\n",
    "        if nums[l-1] == target:\n",
    "            upper = l - 1\n",
    "\n",
    "        return [lower, upper]\n",
    "        \n"
   ]
  },
  {
   "cell_type": "code",
   "execution_count": 12,
   "id": "54272a26-1da8-4194-b1fa-ab04c89bbb63",
   "metadata": {},
   "outputs": [
    {
     "name": "stdout",
     "output_type": "stream",
     "text": [
      "0\n",
      "l -1\n",
      "1\n"
     ]
    },
    {
     "data": {
      "text/plain": [
       "[0, 0]"
      ]
     },
     "execution_count": 12,
     "metadata": {},
     "output_type": "execute_result"
    }
   ],
   "source": [
    "s = Solution()\n",
    "s.searchRange([1], 1)"
   ]
  },
  {
   "cell_type": "markdown",
   "id": "f8e909d2-c1bd-41da-91b1-9b024927dbcc",
   "metadata": {},
   "source": [
    "### 81 (need to rewrite)"
   ]
  },
  {
   "cell_type": "code",
   "execution_count": 14,
   "id": "1f964548-8a44-4738-afd2-0f53bae897f9",
   "metadata": {},
   "outputs": [],
   "source": [
    "class Solution:\n",
    "    def search(self, nums, target: int) -> bool:\n",
    "        l = 0\n",
    "        r = len(nums) - 1\n",
    "        while l <= r:\n",
    "            mid = l + (r - l) // 2\n",
    "            if nums[mid] == target:\n",
    "                # if mid is target, return true\n",
    "                return True\n",
    "            \n",
    "            # cannot tell left or right is increasing\n",
    "            if nums[l] == nums[mid]:\n",
    "                l += 1\n",
    "                \n",
    "            elif nums[l] <= nums[mid]:\n",
    "                # left side is increasing\n",
    "                # [l,mid] is a sorted list\n",
    "                # if left <= target < mid, then lets go to this area\n",
    "                if target >= nums[l] and target < nums[mid]:\n",
    "                    r = mid - 1\n",
    "                else:\n",
    "                    l = mid + 1\n",
    "            else:\n",
    "                # right side is increasing\n",
    "                # [mid, r] is a sorted list\n",
    "                # if mid < target <= right, then lets go to this area\n",
    "                if target > nums[mid] and target <= nums[r]:\n",
    "                    l = mid + 1\n",
    "                else:\n",
    "                    r = mid - 1\n",
    "                    \n",
    "        return False\n",
    "                    \n",
    "        # now we have [l, mid] or [mid, r], which is a rotated list\n",
    "\n",
    "\n"
   ]
  },
  {
   "cell_type": "code",
   "execution_count": 16,
   "id": "6a880c57-52d5-4d3c-a01a-82f76a09748e",
   "metadata": {},
   "outputs": [
    {
     "data": {
      "text/plain": [
       "False"
      ]
     },
     "execution_count": 16,
     "metadata": {},
     "output_type": "execute_result"
    }
   ],
   "source": [
    "s = Solution()\n",
    "s.search([2,5,6,0,0,1,2], 3)"
   ]
  },
  {
   "cell_type": "markdown",
   "id": "7da4cd77-19b7-46e0-8ebd-76d03280c862",
   "metadata": {},
   "source": [
    "## Basic"
   ]
  },
  {
   "cell_type": "markdown",
   "id": "39fa351b-23a3-4dab-bad3-c12cd88a1367",
   "metadata": {},
   "source": [
    "### 154"
   ]
  },
  {
   "cell_type": "code",
   "execution_count": 18,
   "id": "2e9f43b1-a353-44ea-9b0a-a1f58eee10cc",
   "metadata": {},
   "outputs": [],
   "source": [
    "class Solution:\n",
    "    def findMin(self, nums) -> int:\n",
    "        l = 0\n",
    "        r = len(nums) - 1\n",
    "        res = nums[0]\n",
    "        # try to find the rotate pos\n",
    "        while l <= r:\n",
    "            mid = l + (r - l) // 2\n",
    "            print(l, mid, r)\n",
    "            if r - l == 1:\n",
    "                temp = min(nums[l], nums[r])\n",
    "                res = min(res, temp)\n",
    "                break\n",
    "            if l == r:\n",
    "                res = min(res, nums[l])\n",
    "                break\n",
    "            if nums[mid] == nums[l]:\n",
    "                l += 1\n",
    "            elif nums[mid] > nums[l]:\n",
    "                # left side is sorted\n",
    "                print('go right')\n",
    "                res = min(res, nums[l])\n",
    "                print(res)\n",
    "                l = mid + 1\n",
    "            else:\n",
    "                # right side is sorted\n",
    "                # nums[l] > nums[mid]\n",
    "                res = min(res, nums[mid])\n",
    "                r = mid - 1\n",
    "        return res"
   ]
  },
  {
   "cell_type": "markdown",
   "id": "d7504ecf-de75-4fee-bcc9-cd6a23203487",
   "metadata": {},
   "source": [
    "### 540"
   ]
  },
  {
   "cell_type": "code",
   "execution_count": 19,
   "id": "8d163f76-e60a-4848-9a80-72ede3bbfee7",
   "metadata": {},
   "outputs": [],
   "source": [
    "class Solution:\n",
    "    def singleNonDuplicate(self, nums) -> int:\n",
    "        l = 0\n",
    "        r = len(nums) - 1 # r must be even\n",
    "        if len(nums) == 1:\n",
    "            return nums[0]\n",
    "        while l < r:\n",
    "            mid = l + (r - l) // 2\n",
    "            if mid % 2 == 0:\n",
    "                if nums[mid] == nums[mid - 1]:\n",
    "                    # target in the left side\n",
    "                    r = mid\n",
    "                elif nums[mid] == nums[mid + 1]:\n",
    "                    l = mid + 1\n",
    "                else:\n",
    "                    return nums[mid]\n",
    "            else:\n",
    "                if nums[mid] == nums[mid - 1]:\n",
    "                    # target in the right side\n",
    "                    l = mid + 1\n",
    "                elif nums[mid] == nums[mid + 1]:\n",
    "                    r = mid\n",
    "                else:\n",
    "                    return nums[mid]\n",
    "        if l == r:\n",
    "            return nums[l]\n"
   ]
  },
  {
   "cell_type": "code",
   "execution_count": null,
   "id": "9b1ab252-351b-4396-a2cc-c2609f45049e",
   "metadata": {},
   "outputs": [],
   "source": []
  }
 ],
 "metadata": {
  "kernelspec": {
   "display_name": "lc",
   "language": "python",
   "name": "lc"
  },
  "language_info": {
   "codemirror_mode": {
    "name": "ipython",
    "version": 3
   },
   "file_extension": ".py",
   "mimetype": "text/x-python",
   "name": "python",
   "nbconvert_exporter": "python",
   "pygments_lexer": "ipython3",
   "version": "3.10.10"
  }
 },
 "nbformat": 4,
 "nbformat_minor": 5
}
