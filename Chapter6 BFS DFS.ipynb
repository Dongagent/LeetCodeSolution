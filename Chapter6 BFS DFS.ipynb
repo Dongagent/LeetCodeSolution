{
 "cells": [
  {
   "cell_type": "markdown",
   "id": "56b72182-d6d1-44ee-b8aa-f918b7ecd936",
   "metadata": {},
   "source": [
    "# Chapter6"
   ]
  },
  {
   "cell_type": "markdown",
   "id": "57d0b8db-5ec2-4043-909e-8e1c94d1a99c",
   "metadata": {},
   "source": [
    "## DFS (depth-first seach)"
   ]
  },
  {
   "cell_type": "markdown",
   "id": "2278826a-858b-4e23-8839-284251d48e0d",
   "metadata": {},
   "source": [
    "### 695"
   ]
  },
  {
   "cell_type": "code",
   "execution_count": 8,
   "id": "0399be20-2f36-44f7-a011-78cdd821edc0",
   "metadata": {},
   "outputs": [],
   "source": [
    "class Solution:\n",
    "    def maxAreaOfIsland(self, grid) -> int:\n",
    "\n",
    "        maxArea = 0\n",
    "        for i in range(len(grid)):\n",
    "            for j in range(len(grid[0])):\n",
    "                if grid[i][j] == 1:\n",
    "                    maxArea = max(maxArea, self.dfs(grid, i, j))\n",
    "\n",
    "        return maxArea\n",
    "\n",
    "    def dfs(self, grid, i, j):\n",
    "        if i < 0 or j < 0 or i >= len(grid) or j >= len(grid[0]) or grid[i][j] != 1:\n",
    "            return 0\n",
    "        \n",
    "        maxArea = 1\n",
    "        grid[i][j] = 0 # visited\n",
    "        return maxArea + self.dfs(grid, i-1, j) + self.dfs(grid, i+1, j) + self.dfs(grid, i, j-1) + self.dfs(grid, i, j+1)\n",
    "\n"
   ]
  },
  {
   "cell_type": "markdown",
   "id": "9327f961-ac70-4587-bf8b-66645f68b609",
   "metadata": {},
   "source": [
    "### 547"
   ]
  },
  {
   "cell_type": "code",
   "execution_count": 9,
   "id": "70140aa9-4f82-4e7c-b476-086ca9cc2ce4",
   "metadata": {},
   "outputs": [],
   "source": [
    "class Solution:\n",
    "    def findCircleNum(self, isConnected) -> int:\n",
    "        prov_num = 0\n",
    "        n = len(isConnected)\n",
    "        visited = [False for _ in range(n)]\n",
    "\n",
    "        graph = {x:[] for x in range(n)}\n",
    "        for i in range(n):\n",
    "            for j in range(i+1, n):\n",
    "                if isConnected[i][j] == 1:\n",
    "                    graph[i].append(j)\n",
    "        \n",
    "        def dfs(u):\n",
    "            visited[u] = True\n",
    "            for v in range(n):\n",
    "                if isConnected[u][v] == 1 and not visited[v]:\n",
    "                    dfs(v)\n",
    "        \n",
    "        count = 0\n",
    "        for idx in range(n):\n",
    "            if not visited[idx]:\n",
    "                visited[idx] = True\n",
    "                count += 1\n",
    "                dfs(idx)\n",
    "        \n",
    "        return count\n",
    "        "
   ]
  },
  {
   "cell_type": "markdown",
   "id": "0e3ff63b-2649-405a-8399-ad9aa5e57171",
   "metadata": {},
   "source": [
    "## BFS"
   ]
  },
  {
   "cell_type": "code",
   "execution_count": null,
   "id": "4bb407b9-5676-4848-bfe7-a7b13099d004",
   "metadata": {},
   "outputs": [],
   "source": []
  },
  {
   "cell_type": "markdown",
   "id": "e9b75304-8f1b-4c75-bc39-c1990fd6e4d4",
   "metadata": {},
   "source": [
    "## Tutorial"
   ]
  },
  {
   "cell_type": "markdown",
   "id": "f51ed824-616a-41ea-b09c-16079b67ca2b",
   "metadata": {},
   "source": [
    "## Basic"
   ]
  },
  {
   "cell_type": "code",
   "execution_count": null,
   "id": "df9eabd4-dc23-4196-84e6-4231f8c7c7be",
   "metadata": {},
   "outputs": [],
   "source": []
  }
 ],
 "metadata": {
  "kernelspec": {
   "display_name": "lc",
   "language": "python",
   "name": "lc"
  },
  "language_info": {
   "codemirror_mode": {
    "name": "ipython",
    "version": 3
   },
   "file_extension": ".py",
   "mimetype": "text/x-python",
   "name": "python",
   "nbconvert_exporter": "python",
   "pygments_lexer": "ipython3",
   "version": "3.10.10"
  }
 },
 "nbformat": 4,
 "nbformat_minor": 5
}
